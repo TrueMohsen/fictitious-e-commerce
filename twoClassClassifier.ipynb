{
 "cells": [
  {
   "cell_type": "code",
   "execution_count": 3,
   "metadata": {},
   "outputs": [],
   "source": [
    "# Import libraries\n",
    "\n",
    "import pandas as pd\n",
    "from pathlib import Path\n",
    "from sklearn.compose import ColumnTransformer\n",
    "from sklearn.preprocessing import MinMaxScaler\n",
    "from sklearn.pipeline import Pipeline\n",
    "from sklearn.feature_extraction.text import TfidfVectorizer, CountVectorizer\n",
    "from sklearn.naive_bayes import MultinomialNB\n",
    "from sklearn.feature_selection import SequentialFeatureSelector\n",
    "from sklearn.linear_model import LogisticRegression\n",
    "from sklearn.model_selection import train_test_split"
   ]
  },
  {
   "cell_type": "code",
   "execution_count": 95,
   "metadata": {},
   "outputs": [],
   "source": [
    "#configuration\n",
    "\n",
    "path = 'dataset/'\n",
    "products = 'products-data*.tsv'\n",
    "reviews = 'reviews-*.tsv'\n",
    "products_column_names = ['id', 'category', 'product title']\n",
    "review_column_names =['id', 'rating', 'review_text']\n",
    "intersection_column = 'id'\n",
    "test_size_ratio = 0.2\n",
    "random_state_number = 42\n",
    "\n",
    "\n",
    "\n",
    "\n"
   ]
  },
  {
   "cell_type": "code",
   "execution_count": 46,
   "metadata": {},
   "outputs": [],
   "source": [
    "# Read in the product-data*.tsv data files.\n",
    "# Read in the reviews*.tsv data files.\n",
    "\n",
    "def data_loader(path, name_of_file , column_names):\n",
    "    current_items_list = []\n",
    "    data_files = Path(path).glob(name_of_file)\n",
    "    for file in data_files:\n",
    "        current_items_list.append(pd.read_csv(file, sep = '\\t', header = None, names = column_names))\n",
    "    return pd.concat(current_items_list)"
   ]
  },
  {
   "cell_type": "code",
   "execution_count": 44,
   "metadata": {},
   "outputs": [],
   "source": [
    "# Merge df_product and df_review into a new DataFrame  on the 'id' column. \n",
    "# The DataFrame will contain all the data.\n",
    "\n",
    "def data_merger(left_data, right_data, intersection_column):\n",
    "    return pd.merge(left=left_data, right=right_data, on = intersection_column)"
   ]
  },
  {
   "cell_type": "code",
   "execution_count": 68,
   "metadata": {},
   "outputs": [],
   "source": [
    "def replacer(column, replace_from, replace_to, data_frame):\n",
    "    return data_frame[column].replace(replace_from, replace_to, inplace=True)"
   ]
  },
  {
   "cell_type": "code",
   "execution_count": null,
   "metadata": {},
   "outputs": [],
   "source": []
  },
  {
   "cell_type": "code",
   "execution_count": 47,
   "metadata": {},
   "outputs": [],
   "source": [
    "df_product = data_loader(path,products,products_column_names)"
   ]
  },
  {
   "cell_type": "code",
   "execution_count": 48,
   "metadata": {},
   "outputs": [],
   "source": [
    "df_review = data_loader(path,reviews,review_column_names)"
   ]
  },
  {
   "cell_type": "code",
   "execution_count": 38,
   "metadata": {},
   "outputs": [],
   "source": []
  },
  {
   "cell_type": "code",
   "execution_count": 77,
   "metadata": {},
   "outputs": [],
   "source": [
    "full_dataset = pd.merge(df_product, df_review, on='id')"
   ]
  },
  {
   "cell_type": "code",
   "execution_count": 78,
   "metadata": {},
   "outputs": [
    {
     "name": "stdout",
     "output_type": "stream",
     "text": [
      "Index(['id', 'category', 'product title', 'rating', 'review_text'], dtype='object')\n"
     ]
    },
    {
     "data": {
      "text/html": [
       "<div>\n",
       "<style scoped>\n",
       "    .dataframe tbody tr th:only-of-type {\n",
       "        vertical-align: middle;\n",
       "    }\n",
       "\n",
       "    .dataframe tbody tr th {\n",
       "        vertical-align: top;\n",
       "    }\n",
       "\n",
       "    .dataframe thead th {\n",
       "        text-align: right;\n",
       "    }\n",
       "</style>\n",
       "<table border=\"1\" class=\"dataframe\">\n",
       "  <thead>\n",
       "    <tr style=\"text-align: right;\">\n",
       "      <th></th>\n",
       "      <th>id</th>\n",
       "      <th>category</th>\n",
       "      <th>product title</th>\n",
       "      <th>rating</th>\n",
       "      <th>review_text</th>\n",
       "    </tr>\n",
       "  </thead>\n",
       "  <tbody>\n",
       "    <tr>\n",
       "      <th>0</th>\n",
       "      <td>daa54754-af9c-41c0-b542-fe5eabc5919c</td>\n",
       "      <td>Kitchen</td>\n",
       "      <td>Bodum Travel Press 12-Ounce French Press Coffe...</td>\n",
       "      <td>5</td>\n",
       "      <td>Great!</td>\n",
       "    </tr>\n",
       "    <tr>\n",
       "      <th>1</th>\n",
       "      <td>ab602aca-9bad-4aa9-bd42-6ce24cdf8680</td>\n",
       "      <td>Kitchen</td>\n",
       "      <td>RH Forschner by Victorinox BladeSafe for Knife...</td>\n",
       "      <td>5</td>\n",
       "      <td>It fit perfectly on my new&lt;br /&gt;Victorinox Fib...</td>\n",
       "    </tr>\n",
       "    <tr>\n",
       "      <th>2</th>\n",
       "      <td>f98cd8d3-d6fe-4ee3-8c9f-a18c1690f7a6</td>\n",
       "      <td>Kitchen</td>\n",
       "      <td>Bellemain 12-Cup Nonstick Madeleine Pan</td>\n",
       "      <td>5</td>\n",
       "      <td>Excellent pan - my daughter just made madelein...</td>\n",
       "    </tr>\n",
       "  </tbody>\n",
       "</table>\n",
       "</div>"
      ],
      "text/plain": [
       "                                     id category  \\\n",
       "0  daa54754-af9c-41c0-b542-fe5eabc5919c  Kitchen   \n",
       "1  ab602aca-9bad-4aa9-bd42-6ce24cdf8680  Kitchen   \n",
       "2  f98cd8d3-d6fe-4ee3-8c9f-a18c1690f7a6  Kitchen   \n",
       "\n",
       "                                       product title rating  \\\n",
       "0  Bodum Travel Press 12-Ounce French Press Coffe...      5   \n",
       "1  RH Forschner by Victorinox BladeSafe for Knife...      5   \n",
       "2            Bellemain 12-Cup Nonstick Madeleine Pan      5   \n",
       "\n",
       "                                         review_text  \n",
       "0                                             Great!  \n",
       "1  It fit perfectly on my new<br />Victorinox Fib...  \n",
       "2  Excellent pan - my daughter just made madelein...  "
      ]
     },
     "execution_count": 78,
     "metadata": {},
     "output_type": "execute_result"
    }
   ],
   "source": [
    "print(full_dataset.columns)\n",
    "full_dataset.head(3)"
   ]
  },
  {
   "cell_type": "code",
   "execution_count": 79,
   "metadata": {},
   "outputs": [
    {
     "name": "stdout",
     "output_type": "stream",
     "text": [
      "Check the \"category\" column for any missing or invalid values that need to be cleaned.\n",
      "Jewelry    607\n",
      "Kitchen    513\n",
      "Ktchen     134\n",
      "Name: category, dtype: int64\n"
     ]
    }
   ],
   "source": [
    "print('Check the \"category\" column for any missing or invalid values that need to be cleaned.')\n",
    "print(full_dataset['category'].value_counts())"
   ]
  },
  {
   "cell_type": "code",
   "execution_count": 80,
   "metadata": {},
   "outputs": [],
   "source": [
    "# full_dataset = replacer('category','Ktchen','Kitchen',full_dataset)\n",
    "#Replace 'Ktchen' with 'Kitchen'\n",
    "full_dataset['category'].replace('Ktchen', 'Kitchen', inplace=True)"
   ]
  },
  {
   "cell_type": "code",
   "execution_count": 88,
   "metadata": {},
   "outputs": [
    {
     "name": "stdout",
     "output_type": "stream",
     "text": [
      "\n",
      "Verify values in the \"class\" column after cleaning the data.\n",
      "Kitchen    647\n",
      "Jewelry    607\n",
      "Name: category, dtype: int64\n"
     ]
    }
   ],
   "source": [
    "print( )\n",
    "print('Verify values in the \"class\" column after cleaning the data.')\n",
    "print(full_dataset['category'].value_counts())"
   ]
  },
  {
   "cell_type": "code",
   "execution_count": 90,
   "metadata": {},
   "outputs": [],
   "source": [
    "# Select product title, review and rating as input features.\n",
    "# Select category as output feature.\n",
    "\n",
    "input_features = full_dataset[['product title', 'review_text', 'rating']]\n",
    "output_features = full_dataset['category']"
   ]
  },
  {
   "cell_type": "code",
   "execution_count": 96,
   "metadata": {},
   "outputs": [],
   "source": [
    "# Split the data into training and test datasets.\n",
    "# Take a random 80/20 train/test split of the data by selecting 80% of rows for training and 20% for model testing.\n",
    "\n",
    "X_train, X_test, y_train, y_test = train_test_split(input_features, output_features, test_size=test_size_ratio, random_state=random_state_number)\n"
   ]
  },
  {
   "cell_type": "code",
   "execution_count": 98,
   "metadata": {},
   "outputs": [
    {
     "data": {
      "text/plain": [
       "Pipeline(steps=[('featurizer',\n",
       "                 ColumnTransformer(transformers=[('tilte_vectorizer',\n",
       "                                                  TfidfVectorizer(ngram_range=(1,\n",
       "                                                                               3)),\n",
       "                                                  'product title'),\n",
       "                                                 ('review_vectorizer',\n",
       "                                                  TfidfVectorizer(ngram_range=(1,\n",
       "                                                                               3)),\n",
       "                                                  'review_text'),\n",
       "                                                 ('num_preprocess',\n",
       "                                                  MinMaxScaler(),\n",
       "                                                  ['rating'])])),\n",
       "                ('lg', LogisticRegression())])"
      ]
     },
     "execution_count": 98,
     "metadata": {},
     "output_type": "execute_result"
    }
   ],
   "source": [
    "# Create a ColumnTransformer with three transformations:\n",
    "# TfidfVectorizer for the \"product title\" column,\n",
    "# TfidfVectorizer for the \"review_text\" column and \n",
    "# MinMaxScaler() for numerical feature, \"rating\".\n",
    "column_transformer = ColumnTransformer(\n",
    "    [\n",
    "        ('tilte_vectorizer', TfidfVectorizer(ngram_range=(1,3)), 'product title'),\n",
    "        ('review_vectorizer', TfidfVectorizer(ngram_range=(1,3)), 'review_text'),\n",
    "        (\"num_preprocess\", MinMaxScaler(), ['rating'])\n",
    "    ]\n",
    "    )\n",
    "\n",
    "# Construct a Pipeline with the ColumnTransformer and a LogisticRegression estimator.\n",
    "pipeline_transformer_lr = Pipeline([\n",
    "    ('featurizer', column_transformer),\n",
    "    # ('feature_selection', SequentialFeatureSelector(estimator=MultinomialNB(), direction='backward', cv=2, n_jobs=-1)),\n",
    "    ('lg', LogisticRegression())\n",
    "    ]\n",
    "    )\n",
    "\n",
    "# Fit the pipeline on the training data.\n",
    "pipeline_transformer_lr.fit(X_train, y_train)"
   ]
  },
  {
   "cell_type": "code",
   "execution_count": 99,
   "metadata": {},
   "outputs": [
    {
     "name": "stdout",
     "output_type": "stream",
     "text": [
      "Train Accuracy: 0.9990029910269193\n",
      "\n",
      "Test Accuracy: 0.9800796812749004\n"
     ]
    }
   ],
   "source": [
    "# Evaluate the pipeline by scoring accuracy on the train and test sets.\n",
    "print('Train Accuracy:', pipeline_transformer_lr.score(X_train, y_train))\n",
    "print()\n",
    "print('Test Accuracy:', pipeline_transformer_lr.score(X_test, y_test))"
   ]
  },
  {
   "cell_type": "code",
   "execution_count": null,
   "metadata": {},
   "outputs": [],
   "source": [
    "# Identify incorrect predictions made by the model.\n",
    "incorrect_df = df[clf.predict(df) != df['class']]\n",
    "incorrect_df"
   ]
  }
 ],
 "metadata": {
  "kernelspec": {
   "display_name": "Python 3",
   "language": "python",
   "name": "python3"
  },
  "language_info": {
   "codemirror_mode": {
    "name": "ipython",
    "version": 3
   },
   "file_extension": ".py",
   "mimetype": "text/x-python",
   "name": "python",
   "nbconvert_exporter": "python",
   "pygments_lexer": "ipython3",
   "version": "3.7.6"
  }
 },
 "nbformat": 4,
 "nbformat_minor": 4
}
