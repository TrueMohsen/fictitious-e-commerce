{
 "cells": [
  {
   "cell_type": "code",
   "execution_count": 3,
   "metadata": {},
   "outputs": [],
   "source": [
    "# Import libraries\n",
    "\n",
    "import pandas as pd\n",
    "from pathlib import Path\n",
    "from sklearn.compose import ColumnTransformer\n",
    "from sklearn.preprocessing import MinMaxScaler\n",
    "from sklearn.pipeline import Pipeline\n",
    "from sklearn.feature_extraction.text import TfidfVectorizer, CountVectorizer\n",
    "from sklearn.naive_bayes import MultinomialNB\n",
    "from sklearn.feature_selection import SequentialFeatureSelector\n",
    "from sklearn.linear_model import LogisticRegression\n",
    "from sklearn.model_selection import train_test_split"
   ]
  },
  {
   "cell_type": "code",
   "execution_count": 29,
   "metadata": {},
   "outputs": [],
   "source": [
    "#configuration\n",
    "\n",
    "path = 'dataset/'\n",
    "products = 'products-data*.tsv'\n",
    "reviews = 'reviews-*.tsv'\n",
    "products_column_names = ['id', 'category', 'product title']\n",
    "review_column_names=['id', 'rating', 'review_text']\n",
    "\n",
    "\n",
    "\n",
    "\n"
   ]
  },
  {
   "cell_type": "code",
   "execution_count": 25,
   "metadata": {},
   "outputs": [],
   "source": [
    "def data_loader(path, name_of_file , column_names):\n",
    "    current_items_list = []\n",
    "    data_files = Path(path).glob(name_of_file)\n",
    "    for file in data_files:\n",
    "        current_items_list.append(pd.read_csv(file, sep = '\\t', header = None, names = column_names))\n",
    "    return pd.concat(current_items_list)"
   ]
  },
  {
   "cell_type": "code",
   "execution_count": 26,
   "metadata": {},
   "outputs": [],
   "source": [
    "df_product = data_loader(path,products,products_column_names)"
   ]
  },
  {
   "cell_type": "code",
   "execution_count": 30,
   "metadata": {},
   "outputs": [],
   "source": [
    "df_product = data_loader(path,reviews,review_column_names)"
   ]
  },
  {
   "cell_type": "code",
   "execution_count": 31,
   "metadata": {},
   "outputs": [
    {
     "data": {
      "text/html": [
       "<div>\n",
       "<style scoped>\n",
       "    .dataframe tbody tr th:only-of-type {\n",
       "        vertical-align: middle;\n",
       "    }\n",
       "\n",
       "    .dataframe tbody tr th {\n",
       "        vertical-align: top;\n",
       "    }\n",
       "\n",
       "    .dataframe thead th {\n",
       "        text-align: right;\n",
       "    }\n",
       "</style>\n",
       "<table border=\"1\" class=\"dataframe\">\n",
       "  <thead>\n",
       "    <tr style=\"text-align: right;\">\n",
       "      <th></th>\n",
       "      <th>id</th>\n",
       "      <th>rating</th>\n",
       "      <th>review_text</th>\n",
       "    </tr>\n",
       "  </thead>\n",
       "  <tbody>\n",
       "    <tr>\n",
       "      <th>0</th>\n",
       "      <td>daa54754-af9c-41c0-b542-fe5eabc5919c</td>\n",
       "      <td>5</td>\n",
       "      <td>Great!</td>\n",
       "    </tr>\n",
       "    <tr>\n",
       "      <th>1</th>\n",
       "      <td>ab602aca-9bad-4aa9-bd42-6ce24cdf8680</td>\n",
       "      <td>5</td>\n",
       "      <td>It fit perfectly on my new&lt;br /&gt;Victorinox Fib...</td>\n",
       "    </tr>\n",
       "    <tr>\n",
       "      <th>2</th>\n",
       "      <td>f98cd8d3-d6fe-4ee3-8c9f-a18c1690f7a6</td>\n",
       "      <td>5</td>\n",
       "      <td>Excellent pan - my daughter just made madelein...</td>\n",
       "    </tr>\n",
       "    <tr>\n",
       "      <th>3</th>\n",
       "      <td>396f73e3-e3ef-4c93-a4b7-e8b04c6a2223</td>\n",
       "      <td>3</td>\n",
       "      <td>not the good one  but not bad</td>\n",
       "    </tr>\n",
       "    <tr>\n",
       "      <th>4</th>\n",
       "      <td>329ed5e3-8b47-4e78-961b-18b89e7da808</td>\n",
       "      <td>1</td>\n",
       "      <td>This is a rip off. It only comes with this nec...</td>\n",
       "    </tr>\n",
       "    <tr>\n",
       "      <th>...</th>\n",
       "      <td>...</td>\n",
       "      <td>...</td>\n",
       "      <td>...</td>\n",
       "    </tr>\n",
       "    <tr>\n",
       "      <th>249</th>\n",
       "      <td>def6de43-649a-47c8-9b79-2dd94f21689d</td>\n",
       "      <td>5</td>\n",
       "      <td>Great product delivered on time. it is a wonde...</td>\n",
       "    </tr>\n",
       "    <tr>\n",
       "      <th>250</th>\n",
       "      <td>a2b774d3-5a75-47bb-91d8-59c8e3769f51</td>\n",
       "      <td>2</td>\n",
       "      <td>Snap broke before I even wore it</td>\n",
       "    </tr>\n",
       "    <tr>\n",
       "      <th>251</th>\n",
       "      <td>0e6c70dd-44d6-40e5-b635-360302acc275</td>\n",
       "      <td>5</td>\n",
       "      <td>Love the BLACK color, and the setting is beaut...</td>\n",
       "    </tr>\n",
       "    <tr>\n",
       "      <th>252</th>\n",
       "      <td>1df86592-7c6b-4194-ae09-7a2ea30093a0</td>\n",
       "      <td>5</td>\n",
       "      <td>Earrings are lovely. I had a question about th...</td>\n",
       "    </tr>\n",
       "    <tr>\n",
       "      <th>253</th>\n",
       "      <td>d0876e7b-0267-4ac6-ba5d-e955bd2ffda1</td>\n",
       "      <td>5</td>\n",
       "      <td>Nicely build with 2 spare filter.&lt;br /&gt;All sta...</td>\n",
       "    </tr>\n",
       "  </tbody>\n",
       "</table>\n",
       "<p>1754 rows × 3 columns</p>\n",
       "</div>"
      ],
      "text/plain": [
       "                                       id rating  \\\n",
       "0    daa54754-af9c-41c0-b542-fe5eabc5919c      5   \n",
       "1    ab602aca-9bad-4aa9-bd42-6ce24cdf8680      5   \n",
       "2    f98cd8d3-d6fe-4ee3-8c9f-a18c1690f7a6      5   \n",
       "3    396f73e3-e3ef-4c93-a4b7-e8b04c6a2223      3   \n",
       "4    329ed5e3-8b47-4e78-961b-18b89e7da808      1   \n",
       "..                                    ...    ...   \n",
       "249  def6de43-649a-47c8-9b79-2dd94f21689d      5   \n",
       "250  a2b774d3-5a75-47bb-91d8-59c8e3769f51      2   \n",
       "251  0e6c70dd-44d6-40e5-b635-360302acc275      5   \n",
       "252  1df86592-7c6b-4194-ae09-7a2ea30093a0      5   \n",
       "253  d0876e7b-0267-4ac6-ba5d-e955bd2ffda1      5   \n",
       "\n",
       "                                           review_text  \n",
       "0                                               Great!  \n",
       "1    It fit perfectly on my new<br />Victorinox Fib...  \n",
       "2    Excellent pan - my daughter just made madelein...  \n",
       "3                        not the good one  but not bad  \n",
       "4    This is a rip off. It only comes with this nec...  \n",
       "..                                                 ...  \n",
       "249  Great product delivered on time. it is a wonde...  \n",
       "250                   Snap broke before I even wore it  \n",
       "251  Love the BLACK color, and the setting is beaut...  \n",
       "252  Earrings are lovely. I had a question about th...  \n",
       "253  Nicely build with 2 spare filter.<br />All sta...  \n",
       "\n",
       "[1754 rows x 3 columns]"
      ]
     },
     "execution_count": 31,
     "metadata": {},
     "output_type": "execute_result"
    }
   ],
   "source": [
    "df_product"
   ]
  },
  {
   "cell_type": "code",
   "execution_count": null,
   "metadata": {},
   "outputs": [],
   "source": []
  }
 ],
 "metadata": {
  "kernelspec": {
   "display_name": "Python 3",
   "language": "python",
   "name": "python3"
  },
  "language_info": {
   "codemirror_mode": {
    "name": "ipython",
    "version": 3
   },
   "file_extension": ".py",
   "mimetype": "text/x-python",
   "name": "python",
   "nbconvert_exporter": "python",
   "pygments_lexer": "ipython3",
   "version": "3.7.6"
  }
 },
 "nbformat": 4,
 "nbformat_minor": 4
}
